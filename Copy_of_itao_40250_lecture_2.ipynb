{
  "nbformat": 4,
  "nbformat_minor": 0,
  "metadata": {
    "colab": {
      "provenance": [],
      "collapsed_sections": [],
      "include_colab_link": true
    },
    "kernelspec": {
      "display_name": "Python 3",
      "language": "python",
      "name": "python3"
    },
    "language_info": {
      "codemirror_mode": {
        "name": "ipython",
        "version": 3
      },
      "file_extension": ".py",
      "mimetype": "text/x-python",
      "name": "python",
      "nbconvert_exporter": "python",
      "pygments_lexer": "ipython3",
      "version": "3.7.6"
    }
  },
  "cells": [
    {
      "cell_type": "markdown",
      "metadata": {
        "id": "view-in-github",
        "colab_type": "text"
      },
      "source": [
        "<a href=\"https://colab.research.google.com/github/cwilson2531/hello-world/blob/main/Copy_of_itao_40250_lecture_2.ipynb\" target=\"_parent\"><img src=\"https://colab.research.google.com/assets/colab-badge.svg\" alt=\"Open In Colab\"/></a>"
      ]
    },
    {
      "cell_type": "markdown",
      "metadata": {
        "id": "XJ56jMyy51xg"
      },
      "source": [
        "# ITAO-40250\n",
        "## Lecture 2 - Working with NLTK\n",
        "\n",
        "In this document we'll go through some of the basics of NLTK and brush off any Python rust that's accumulated.\n",
        "\n",
        "## Environment Setup\n",
        "\n",
        "Even though we'll be using Google Colab, we still need to make sure we have the required packages, data, etc. downloaded and ready to go. Fortunately Colab includes many data science packages right out of the box, so installation is minimal.\n"
      ]
    },
    {
      "cell_type": "code",
      "metadata": {
        "id": "V-qYliic6ZTO",
        "colab": {
          "base_uri": "https://localhost:8080/"
        },
        "outputId": "b0c79692-d422-44cc-b61b-7b6def06fbd8"
      },
      "source": [
        "# Ensure that you have the required packages\n",
        "# You should see multiple messages stating that \"requirements already satisfied\"\n",
        "\n",
        "# in the future, when you need to install packages, remember this syntax \n",
        "!pip install nltk scipy numpy matplotlib"
      ],
      "execution_count": null,
      "outputs": [
        {
          "output_type": "stream",
          "text": [
            "Requirement already satisfied: nltk in /usr/local/lib/python3.7/dist-packages (3.2.5)\n",
            "Requirement already satisfied: scipy in /usr/local/lib/python3.7/dist-packages (1.4.1)\n",
            "Requirement already satisfied: numpy in /usr/local/lib/python3.7/dist-packages (1.19.5)\n",
            "Requirement already satisfied: matplotlib in /usr/local/lib/python3.7/dist-packages (3.2.2)\n",
            "Requirement already satisfied: six in /usr/local/lib/python3.7/dist-packages (from nltk) (1.15.0)\n",
            "Requirement already satisfied: kiwisolver>=1.0.1 in /usr/local/lib/python3.7/dist-packages (from matplotlib) (1.3.1)\n",
            "Requirement already satisfied: pyparsing!=2.0.4,!=2.1.2,!=2.1.6,>=2.0.1 in /usr/local/lib/python3.7/dist-packages (from matplotlib) (2.4.7)\n",
            "Requirement already satisfied: cycler>=0.10 in /usr/local/lib/python3.7/dist-packages (from matplotlib) (0.10.0)\n",
            "Requirement already satisfied: python-dateutil>=2.1 in /usr/local/lib/python3.7/dist-packages (from matplotlib) (2.8.1)\n"
          ],
          "name": "stdout"
        }
      ]
    },
    {
      "cell_type": "markdown",
      "metadata": {
        "id": "7bWchR3x6y6V"
      },
      "source": [
        "We have our packages, now we'll download the needed data to work through some of the NLTK book examples."
      ]
    },
    {
      "cell_type": "code",
      "metadata": {
        "id": "V82CtNf91Jpz",
        "colab": {
          "base_uri": "https://localhost:8080/"
        },
        "outputId": "315bfea7-cfcd-449f-b809-b11fba34abae"
      },
      "source": [
        "import nltk \n",
        "\n",
        "# slightly different syntax than in the book, but does the same thing\n",
        "nltk.download(\"book\")\n",
        "#nltk.download(\"gutenberg\")\n"
      ],
      "execution_count": null,
      "outputs": [
        {
          "output_type": "stream",
          "text": [
            "[nltk_data] Downloading collection 'book'\n",
            "[nltk_data]    | \n",
            "[nltk_data]    | Downloading package abc to /root/nltk_data...\n",
            "[nltk_data]    |   Unzipping corpora/abc.zip.\n",
            "[nltk_data]    | Downloading package brown to /root/nltk_data...\n",
            "[nltk_data]    |   Unzipping corpora/brown.zip.\n",
            "[nltk_data]    | Downloading package chat80 to /root/nltk_data...\n",
            "[nltk_data]    |   Unzipping corpora/chat80.zip.\n",
            "[nltk_data]    | Downloading package cmudict to /root/nltk_data...\n",
            "[nltk_data]    |   Unzipping corpora/cmudict.zip.\n",
            "[nltk_data]    | Downloading package conll2000 to /root/nltk_data...\n",
            "[nltk_data]    |   Unzipping corpora/conll2000.zip.\n",
            "[nltk_data]    | Downloading package conll2002 to /root/nltk_data...\n",
            "[nltk_data]    |   Unzipping corpora/conll2002.zip.\n",
            "[nltk_data]    | Downloading package dependency_treebank to\n",
            "[nltk_data]    |     /root/nltk_data...\n",
            "[nltk_data]    |   Unzipping corpora/dependency_treebank.zip.\n",
            "[nltk_data]    | Downloading package genesis to /root/nltk_data...\n",
            "[nltk_data]    |   Unzipping corpora/genesis.zip.\n",
            "[nltk_data]    | Downloading package gutenberg to /root/nltk_data...\n",
            "[nltk_data]    |   Unzipping corpora/gutenberg.zip.\n",
            "[nltk_data]    | Downloading package ieer to /root/nltk_data...\n",
            "[nltk_data]    |   Unzipping corpora/ieer.zip.\n",
            "[nltk_data]    | Downloading package inaugural to /root/nltk_data...\n",
            "[nltk_data]    |   Unzipping corpora/inaugural.zip.\n",
            "[nltk_data]    | Downloading package movie_reviews to\n",
            "[nltk_data]    |     /root/nltk_data...\n",
            "[nltk_data]    |   Unzipping corpora/movie_reviews.zip.\n",
            "[nltk_data]    | Downloading package nps_chat to /root/nltk_data...\n",
            "[nltk_data]    |   Unzipping corpora/nps_chat.zip.\n",
            "[nltk_data]    | Downloading package names to /root/nltk_data...\n",
            "[nltk_data]    |   Unzipping corpora/names.zip.\n",
            "[nltk_data]    | Downloading package ppattach to /root/nltk_data...\n",
            "[nltk_data]    |   Unzipping corpora/ppattach.zip.\n",
            "[nltk_data]    | Downloading package reuters to /root/nltk_data...\n",
            "[nltk_data]    | Downloading package senseval to /root/nltk_data...\n",
            "[nltk_data]    |   Unzipping corpora/senseval.zip.\n",
            "[nltk_data]    | Downloading package state_union to /root/nltk_data...\n",
            "[nltk_data]    |   Unzipping corpora/state_union.zip.\n",
            "[nltk_data]    | Downloading package stopwords to /root/nltk_data...\n",
            "[nltk_data]    |   Unzipping corpora/stopwords.zip.\n",
            "[nltk_data]    | Downloading package swadesh to /root/nltk_data...\n",
            "[nltk_data]    |   Unzipping corpora/swadesh.zip.\n",
            "[nltk_data]    | Downloading package timit to /root/nltk_data...\n",
            "[nltk_data]    |   Unzipping corpora/timit.zip.\n",
            "[nltk_data]    | Downloading package treebank to /root/nltk_data...\n",
            "[nltk_data]    |   Unzipping corpora/treebank.zip.\n",
            "[nltk_data]    | Downloading package toolbox to /root/nltk_data...\n",
            "[nltk_data]    |   Unzipping corpora/toolbox.zip.\n",
            "[nltk_data]    | Downloading package udhr to /root/nltk_data...\n",
            "[nltk_data]    |   Unzipping corpora/udhr.zip.\n",
            "[nltk_data]    | Downloading package udhr2 to /root/nltk_data...\n",
            "[nltk_data]    |   Unzipping corpora/udhr2.zip.\n",
            "[nltk_data]    | Downloading package unicode_samples to\n",
            "[nltk_data]    |     /root/nltk_data...\n",
            "[nltk_data]    |   Unzipping corpora/unicode_samples.zip.\n",
            "[nltk_data]    | Downloading package webtext to /root/nltk_data...\n",
            "[nltk_data]    |   Unzipping corpora/webtext.zip.\n",
            "[nltk_data]    | Downloading package wordnet to /root/nltk_data...\n",
            "[nltk_data]    |   Unzipping corpora/wordnet.zip.\n",
            "[nltk_data]    | Downloading package wordnet_ic to /root/nltk_data...\n",
            "[nltk_data]    |   Unzipping corpora/wordnet_ic.zip.\n",
            "[nltk_data]    | Downloading package words to /root/nltk_data...\n",
            "[nltk_data]    |   Unzipping corpora/words.zip.\n",
            "[nltk_data]    | Downloading package maxent_treebank_pos_tagger to\n",
            "[nltk_data]    |     /root/nltk_data...\n",
            "[nltk_data]    |   Unzipping taggers/maxent_treebank_pos_tagger.zip.\n",
            "[nltk_data]    | Downloading package maxent_ne_chunker to\n",
            "[nltk_data]    |     /root/nltk_data...\n",
            "[nltk_data]    |   Unzipping chunkers/maxent_ne_chunker.zip.\n",
            "[nltk_data]    | Downloading package universal_tagset to\n",
            "[nltk_data]    |     /root/nltk_data...\n",
            "[nltk_data]    |   Unzipping taggers/universal_tagset.zip.\n",
            "[nltk_data]    | Downloading package punkt to /root/nltk_data...\n",
            "[nltk_data]    |   Unzipping tokenizers/punkt.zip.\n",
            "[nltk_data]    | Downloading package book_grammars to\n",
            "[nltk_data]    |     /root/nltk_data...\n",
            "[nltk_data]    |   Unzipping grammars/book_grammars.zip.\n",
            "[nltk_data]    | Downloading package city_database to\n",
            "[nltk_data]    |     /root/nltk_data...\n",
            "[nltk_data]    |   Unzipping corpora/city_database.zip.\n",
            "[nltk_data]    | Downloading package tagsets to /root/nltk_data...\n",
            "[nltk_data]    |   Unzipping help/tagsets.zip.\n",
            "[nltk_data]    | Downloading package panlex_swadesh to\n",
            "[nltk_data]    |     /root/nltk_data...\n",
            "[nltk_data]    | Downloading package averaged_perceptron_tagger to\n",
            "[nltk_data]    |     /root/nltk_data...\n",
            "[nltk_data]    |   Unzipping taggers/averaged_perceptron_tagger.zip.\n",
            "[nltk_data]    | \n",
            "[nltk_data]  Done downloading collection book\n"
          ],
          "name": "stdout"
        },
        {
          "output_type": "execute_result",
          "data": {
            "text/plain": [
              "True"
            ]
          },
          "metadata": {
            "tags": []
          },
          "execution_count": 2
        }
      ]
    },
    {
      "cell_type": "code",
      "metadata": {
        "id": "e_PJti_B1a_l",
        "colab": {
          "base_uri": "https://localhost:8080/"
        },
        "outputId": "6953c047-def4-473e-9ad5-6951f37ebbd1"
      },
      "source": [
        "from nltk.book import *\n",
        "\n",
        "import matplotlib.pyplot as plt"
      ],
      "execution_count": null,
      "outputs": [
        {
          "output_type": "stream",
          "text": [
            "*** Introductory Examples for the NLTK Book ***\n",
            "Loading text1, ..., text9 and sent1, ..., sent9\n",
            "Type the name of the text or sentence to view it.\n",
            "Type: 'texts()' or 'sents()' to list the materials.\n",
            "text1: Moby Dick by Herman Melville 1851\n",
            "text2: Sense and Sensibility by Jane Austen 1811\n",
            "text3: The Book of Genesis\n",
            "text4: Inaugural Address Corpus\n",
            "text5: Chat Corpus\n",
            "text6: Monty Python and the Holy Grail\n",
            "text7: Wall Street Journal\n",
            "text8: Personals Corpus\n",
            "text9: The Man Who Was Thursday by G . K . Chesterton 1908\n"
          ],
          "name": "stdout"
        }
      ]
    },
    {
      "cell_type": "markdown",
      "metadata": {
        "id": "vsvTuQC56_SO"
      },
      "source": [
        "## Digging into Text Data\n",
        "\n",
        "Typically a text data set will be called a *corpus.* A corpus is some collection of words. It could be a collection of emails, tweets, books, etc. But in all cases the unit of analysis will be words. \n",
        "\n",
        "NLTK provides a number of data sets in the package for working with text. We'll see a few here and some others a little later."
      ]
    },
    {
      "cell_type": "code",
      "metadata": {
        "id": "JEHk-NnB-zWI",
        "colab": {
          "base_uri": "https://localhost:8080/"
        },
        "outputId": "acdbe084-0529-485e-cc3a-40285436335a"
      },
      "source": [
        "texts() "
      ],
      "execution_count": null,
      "outputs": [
        {
          "output_type": "stream",
          "text": [
            "text1: Moby Dick by Herman Melville 1851\n",
            "text2: Sense and Sensibility by Jane Austen 1811\n",
            "text3: The Book of Genesis\n",
            "text4: Inaugural Address Corpus\n",
            "text5: Chat Corpus\n",
            "text6: Monty Python and the Holy Grail\n",
            "text7: Wall Street Journal\n",
            "text8: Personals Corpus\n",
            "text9: The Man Who Was Thursday by G . K . Chesterton 1908\n"
          ],
          "name": "stdout"
        }
      ]
    },
    {
      "cell_type": "markdown",
      "metadata": {
        "id": "OmZRIw4m_AWf"
      },
      "source": [
        "Today is going to be all about taking a first look at your corpus. One way to learn about a corpus (the way most familiar to you all) is to read it. However, if you want to learn about a very large corpus, or run some statistical analyses, it's not the best idea to read through all of the text in the corpus. \n",
        "\n",
        "**Important note:** Your first step in any data analysis (structured or unstructured), should *always* be to look at the raw data. If you don't know what's there, you won't know how to proceed."
      ]
    },
    {
      "cell_type": "code",
      "metadata": {
        "id": "j6nPvJDnaEjm",
        "colab": {
          "base_uri": "https://localhost:8080/"
        },
        "outputId": "c1fd1581-df9d-4213-c34f-34e2ac7a09ad"
      },
      "source": [
        "print(text1)"
      ],
      "execution_count": null,
      "outputs": [
        {
          "output_type": "stream",
          "text": [
            "<Text: Moby Dick by Herman Melville 1851>\n"
          ],
          "name": "stdout"
        }
      ]
    },
    {
      "cell_type": "code",
      "metadata": {
        "id": "wI7NBnCA-3Nn",
        "colab": {
          "base_uri": "https://localhost:8080/"
        },
        "outputId": "c50c2a19-cb81-493f-ba67-d940c4f9f83a"
      },
      "source": [
        "# look at the data\n",
        "# because the built-in corpora have already been split into tokens, \n",
        "# we have to paste them back together to make reading easier\n",
        "\n",
        "# What's a token? It's a unit of text (word, punctuation mark, emoji).\n",
        "\n",
        "print(' '.join(text1[0:200]))\n",
        "print(' '.join(text2[0:200]))\n",
        "print(' '.join(text4[0:200]))\n"
      ],
      "execution_count": null,
      "outputs": [
        {
          "output_type": "stream",
          "text": [
            "[ Moby Dick by Herman Melville 1851 ] ETYMOLOGY . ( Supplied by a Late Consumptive Usher to a Grammar School ) The pale Usher -- threadbare in coat , heart , body , and brain ; I see him now . He was ever dusting his old lexicons and grammars , with a queer handkerchief , mockingly embellished with all the gay flags of all the known nations of the world . He loved to dust his old grammars ; it somehow mildly reminded him of his mortality . \" While you take in hand to school others , and to teach them by what name a whale - fish is to be called in our tongue leaving out , through ignorance , the letter H , which almost alone maketh the signification of the word , you deliver that which is not true .\" -- HACKLUYT \" WHALE . ... Sw . and Dan . HVAL . This animal is named from roundness or rolling ; for in Dan . HVALT is arched or vaulted .\" -- WEBSTER ' S DICTIONARY \" WHALE . ... It is more immediately from the Dut . and Ger . WALLEN ;\n",
            "[ Sense and Sensibility by Jane Austen 1811 ] CHAPTER 1 The family of Dashwood had long been settled in Sussex . Their estate was large , and their residence was at Norland Park , in the centre of their property , where , for many generations , they had lived in so respectable a manner as to engage the general good opinion of their surrounding acquaintance . The late owner of this estate was a single man , who lived to a very advanced age , and who for many years of his life , had a constant companion and housekeeper in his sister . But her death , which happened ten years before his own , produced a great alteration in his home ; for to supply her loss , he invited and received into his house the family of his nephew Mr . Henry Dashwood , the legal inheritor of the Norland estate , and the person to whom he intended to bequeath it . In the society of his nephew and niece , and their children , the old Gentleman ' s days were comfortably spent . His attachment to them all increased . The constant\n",
            "Fellow - Citizens of the Senate and of the House of Representatives : Among the vicissitudes incident to life no event could have filled me with greater anxieties than that of which the notification was transmitted by your order , and received on the 14th day of the present month . On the one hand , I was summoned by my Country , whose voice I can never hear but with veneration and love , from a retreat which I had chosen with the fondest predilection , and , in my flattering hopes , with an immutable decision , as the asylum of my declining years -- a retreat which was rendered every day more necessary as well as more dear to me by the addition of habit to inclination , and of frequent interruptions in my health to the gradual waste committed on it by time . On the other hand , the magnitude and difficulty of the trust to which the voice of my country called me , being sufficient to awaken in the wisest and most experienced of her citizens a distrustful scrutiny into his qualifications , could not but overwhelm with despondence one who ( inheriting\n"
          ],
          "name": "stdout"
        }
      ]
    },
    {
      "cell_type": "markdown",
      "metadata": {
        "id": "J3kAWA-wAM_1"
      },
      "source": [
        "Words in a corpus do not exist in a vacuum. Words appear in corpora near other words, and those other words can help you to get a sense of how certain words are being used. *Concordance* shows you all of the instances of a particular word in a corpus, with the surrounding context. That way you get an idea of how a word is being used based on the surrounding words.\n",
        "\n",
        "Concordance lists are helpful if you are comparing different corpora and looking for differences in word use, or if you have a new corpora and want to get a feel for the overall meaning by looking at specific words for how they are used."
      ]
    },
    {
      "cell_type": "code",
      "metadata": {
        "id": "XZcPHcVYBF9G",
        "colab": {
          "base_uri": "https://localhost:8080/"
        },
        "outputId": "bd4fefcd-b5ec-4661-f943-048ebc20fa8f"
      },
      "source": [
        "# example from NLTK book\n",
        "\n",
        "# Moby Dick - means what you would expect\n",
        "text1.concordance(\"monstrous\")\n",
        "\n",
        "# Sense and Sensibility - more like \"very\"\n",
        "text2.concordance(\"monstrous\")"
      ],
      "execution_count": null,
      "outputs": [
        {
          "output_type": "stream",
          "text": [
            "Displaying 11 of 11 matches:\n",
            "ong the former , one was of a most monstrous size . ... This came towards us , \n",
            "ON OF THE PSALMS . \" Touching that monstrous bulk of the whale or ork we have r\n",
            "ll over with a heathenish array of monstrous clubs and spears . Some were thick\n",
            "d as you gazed , and wondered what monstrous cannibal and savage could ever hav\n",
            "that has survived the flood ; most monstrous and most mountainous ! That Himmal\n",
            "they might scout at Moby Dick as a monstrous fable , or still worse and more de\n",
            "th of Radney .'\" CHAPTER 55 Of the Monstrous Pictures of Whales . I shall ere l\n",
            "ing Scenes . In connexion with the monstrous pictures of whales , I am strongly\n",
            "ere to enter upon those still more monstrous stories of them which are to be fo\n",
            "ght have been rummaged out of this monstrous cabinet there is no telling . But \n",
            "of Whale - Bones ; for Whales of a monstrous size are oftentimes cast up dead u\n",
            "Displaying 11 of 11 matches:\n",
            ". \" Now , Palmer , you shall see a monstrous pretty girl .\" He immediately went\n",
            "your sister is to marry him . I am monstrous glad of it , for then I shall have\n",
            "ou may tell your sister . She is a monstrous lucky girl to get him , upon my ho\n",
            "k how you will like them . Lucy is monstrous pretty , and so good humoured and \n",
            " Jennings , \" I am sure I shall be monstrous glad of Miss Marianne ' s company \n",
            " usual noisy cheerfulness , \" I am monstrous glad to see you -- sorry I could n\n",
            "t however , as it turns out , I am monstrous glad there was never any thing in \n",
            "so scornfully ! for they say he is monstrous fond of her , as well he may . I s\n",
            "possible that she should .\" \" I am monstrous glad of it . Good gracious ! I hav\n",
            "thing of the kind . So then he was monstrous happy , and talked on some time ab\n",
            "e very genteel people . He makes a monstrous deal of money , and they keep thei\n"
          ],
          "name": "stdout"
        }
      ]
    },
    {
      "cell_type": "code",
      "metadata": {
        "id": "p7KEfNnDBw3o",
        "colab": {
          "base_uri": "https://localhost:8080/"
        },
        "outputId": "5d313afb-a92c-4af5-c79d-cb19221e3b51"
      },
      "source": [
        "# what about some terms from one of the other corpora?\n",
        "# How long Biblical figures lived\n",
        "\n",
        "text3.concordance(\"lived\")"
      ],
      "execution_count": null,
      "outputs": [
        {
          "output_type": "stream",
          "text": [
            "Displaying 25 of 38 matches:\n",
            "ay when they were created . And Adam lived an hundred and thirty years , and be\n",
            "ughters : And all the days that Adam lived were nine hundred and thirty yea and\n",
            "nd thirty yea and he died . And Seth lived an hundred and five years , and bega\n",
            "ve years , and begat Enos : And Seth lived after he begat Enos eight hundred an\n",
            "welve years : and he died . And Enos lived ninety years , and begat Cainan : An\n",
            " years , and begat Cainan : And Enos lived after he begat Cainan eight hundred \n",
            "ive years : and he died . And Cainan lived seventy years and begat Mahalaleel :\n",
            "rs and begat Mahalaleel : And Cainan lived after he begat Mahalaleel eight hund\n",
            "years : and he died . And Mahalaleel lived sixty and five years , and begat Jar\n",
            "s , and begat Jared : And Mahalaleel lived after he begat Jared eight hundred a\n",
            "and five yea and he died . And Jared lived an hundred sixty and two years , and\n",
            "o years , and he begat Eno And Jared lived after he begat Enoch eight hundred y\n",
            " and two yea and he died . And Enoch lived sixty and five years , and begat Met\n",
            " ; for God took him . And Methuselah lived an hundred eighty and seven years , \n",
            " , and begat Lamech . And Methuselah lived after he begat Lamech seven hundred \n",
            "nd nine yea and he died . And Lamech lived an hundred eighty and two years , an\n",
            "ch the LORD hath cursed . And Lamech lived after he begat Noah five hundred nin\n",
            "naan shall be his servant . And Noah lived after the flood three hundred and fi\n",
            "xad two years after the flo And Shem lived after he begat Arphaxad five hundred\n",
            "at sons and daughters . And Arphaxad lived five and thirty years , and begat Sa\n",
            "ars , and begat Salah : And Arphaxad lived after he begat Salah four hundred an\n",
            "begat sons and daughters . And Salah lived thirty years , and begat Eber : And \n",
            "y years , and begat Eber : And Salah lived after he begat Eber four hundred and\n",
            " begat sons and daughters . And Eber lived four and thirty years , and begat Pe\n",
            "y years , and begat Peleg : And Eber lived after he begat Peleg four hundred an\n"
          ],
          "name": "stdout"
        }
      ]
    },
    {
      "cell_type": "code",
      "metadata": {
        "id": "wOzULbucB_F4",
        "colab": {
          "base_uri": "https://localhost:8080/"
        },
        "outputId": "870dc1aa-d081-490f-bfb5-4fc1b5e67338"
      },
      "source": [
        "# notice how it say \"Displaying 25 of 38 matches\"? You can control how many results are printed with the \"lines\" argument\n",
        "text3.concordance(\"lived\", lines=38)\n"
      ],
      "execution_count": null,
      "outputs": [
        {
          "output_type": "stream",
          "text": [
            "Displaying 38 of 38 matches:\n",
            "ay when they were created . And Adam lived an hundred and thirty years , and be\n",
            "ughters : And all the days that Adam lived were nine hundred and thirty yea and\n",
            "nd thirty yea and he died . And Seth lived an hundred and five years , and bega\n",
            "ve years , and begat Enos : And Seth lived after he begat Enos eight hundred an\n",
            "welve years : and he died . And Enos lived ninety years , and begat Cainan : An\n",
            " years , and begat Cainan : And Enos lived after he begat Cainan eight hundred \n",
            "ive years : and he died . And Cainan lived seventy years and begat Mahalaleel :\n",
            "rs and begat Mahalaleel : And Cainan lived after he begat Mahalaleel eight hund\n",
            "years : and he died . And Mahalaleel lived sixty and five years , and begat Jar\n",
            "s , and begat Jared : And Mahalaleel lived after he begat Jared eight hundred a\n",
            "and five yea and he died . And Jared lived an hundred sixty and two years , and\n",
            "o years , and he begat Eno And Jared lived after he begat Enoch eight hundred y\n",
            " and two yea and he died . And Enoch lived sixty and five years , and begat Met\n",
            " ; for God took him . And Methuselah lived an hundred eighty and seven years , \n",
            " , and begat Lamech . And Methuselah lived after he begat Lamech seven hundred \n",
            "nd nine yea and he died . And Lamech lived an hundred eighty and two years , an\n",
            "ch the LORD hath cursed . And Lamech lived after he begat Noah five hundred nin\n",
            "naan shall be his servant . And Noah lived after the flood three hundred and fi\n",
            "xad two years after the flo And Shem lived after he begat Arphaxad five hundred\n",
            "at sons and daughters . And Arphaxad lived five and thirty years , and begat Sa\n",
            "ars , and begat Salah : And Arphaxad lived after he begat Salah four hundred an\n",
            "begat sons and daughters . And Salah lived thirty years , and begat Eber : And \n",
            "y years , and begat Eber : And Salah lived after he begat Eber four hundred and\n",
            " begat sons and daughters . And Eber lived four and thirty years , and begat Pe\n",
            "y years , and begat Peleg : And Eber lived after he begat Peleg four hundred an\n",
            "begat sons and daughters . And Peleg lived thirty years , and begat Reu : And P\n",
            "ty years , and begat Reu : And Peleg lived after he begat Reu two hundred and n\n",
            "d begat sons and daughters . And Reu lived two and thirty years , and begat Ser\n",
            "ty years , and begat Serug : And Reu lived after he begat Serug two hundred and\n",
            "begat sons and daughters . And Serug lived thirty years , and begat Nahor : And\n",
            " years , and begat Nahor : And Serug lived after he begat Nahor two hundred yea\n",
            "begat sons and daughters . And Nahor lived nine and twenty years , and begat Te\n",
            " years , and begat Terah : And Nahor lived after he begat Terah an hundred and \n",
            "begat sons and daughters . And Terah lived seventy years , and begat Abram , Na\n",
            "ay from Isaac his son , while he yet lived , eastward , unto the east country .\n",
            "e years of Abraham ' s life which he lived , an hundred threescore and fifteen \n",
            "d multiplied exceedingly . And Jacob lived in the land of Egypt seventeen years\n",
            "nd his father ' s house : and Joseph lived an hundred and ten years . And Josep\n"
          ],
          "name": "stdout"
        }
      ]
    },
    {
      "cell_type": "markdown",
      "metadata": {
        "id": "Ww4gMhNSCg3p"
      },
      "source": [
        "NLTK's *similar* function lets us look at words that appear in similar contexts to the selected word. The same word in different corpora will have different similar words."
      ]
    },
    {
      "cell_type": "code",
      "metadata": {
        "id": "Y4PzEYpaCbmC",
        "colab": {
          "base_uri": "https://localhost:8080/"
        },
        "outputId": "a34072ad-b723-4548-e587-a9ef15b7be7c"
      },
      "source": [
        "text1.similar(\"monstrous\")\n",
        "print(\"\\n\")\n",
        "text2.similar(\"monstrous\")\n",
        "print(\"\\n\\n\")\n",
        "text3.similar(\"god\")\n",
        "print(\"\\n\")\n",
        "text4.similar(\"god\")"
      ],
      "execution_count": null,
      "outputs": [
        {
          "output_type": "stream",
          "text": [
            "true contemptible christian abundant few part mean careful puzzled\n",
            "mystifying passing curious loving wise doleful gamesome singular\n",
            "delightfully perilous fearless\n",
            "\n",
            "\n",
            "very so exceedingly heartily a as good great extremely remarkably\n",
            "sweet vast amazingly\n",
            "\n",
            "\n",
            "\n",
            "he joseph pharaoh jacob they abraham she isaac sarah them him it i me\n",
            "abram laban thee cain esau judah\n",
            "\n",
            "\n",
            "america freedom war us power all liberty justice congress peace law\n",
            "man life which it people government opinion duty men\n"
          ],
          "name": "stdout"
        }
      ]
    },
    {
      "cell_type": "markdown",
      "metadata": {
        "id": "LOVpaxpFDHzZ"
      },
      "source": [
        "You can also see the common contexts between a list of words (two or more)."
      ]
    },
    {
      "cell_type": "code",
      "metadata": {
        "id": "JU7GRRzTDU0i",
        "colab": {
          "base_uri": "https://localhost:8080/"
        },
        "outputId": "de334768-b719-4f8b-f435-2be0a37c4ed4"
      },
      "source": [
        "text4.common_contexts(['god','america'])"
      ],
      "execution_count": null,
      "outputs": [
        {
          "output_type": "stream",
          "text": [
            "the_of of_must of_and of_will of_s in_s been_s to_and of_in of_chief\n",
            "of_from with_s of_we of_is\n"
          ],
          "name": "stdout"
        }
      ]
    },
    {
      "cell_type": "markdown",
      "metadata": {
        "id": "8qT6xmBVDu08"
      },
      "source": [
        "The location of a word in a corpus could give you interesting information as well. If your corpus is a speech, you can look at how the speaker starts (what words are used) and contrast that with what words are used at the end.\n",
        "\n",
        "In the NLTK example, since the Inaugural Address Corpus is one long document where the speeches are concatenated together, earliest to most-recent, we can look at how word use changes over time."
      ]
    },
    {
      "cell_type": "code",
      "metadata": {
        "id": "KPzcjJZ2EF2i",
        "colab": {
          "base_uri": "https://localhost:8080/",
          "height": 573
        },
        "outputId": "848aecf0-548d-4df7-9396-83e05a3f1c86"
      },
      "source": [
        "text4.dispersion_plot(['citizens', 'democracy', 'freedom', 'duties', 'America'])\n",
        "\n",
        "text6.dispersion_plot(['Arthur', 'Patsy', 'Lancelot', 'Galahad', 'Robin', 'Tim'])"
      ],
      "execution_count": null,
      "outputs": [
        {
          "output_type": "display_data",
          "data": {
            "image/png": "[encoded data removed]",
            "text/plain": [
              "<Figure size 432x288 with 1 Axes>"
            ]
          },
          "metadata": {
            "tags": [],
            "needs_background": "light"
          }
        },
        {
          "output_type": "display_data",
          "data": {
            "image/png": "[encoded data removed]",
            "text/plain": [
              "<Figure size 432x288 with 1 Axes>"
            ]
          },
          "metadata": {
            "tags": [],
            "needs_background": "light"
          }
        }
      ]
    },
    {
      "cell_type": "code",
      "metadata": {
        "id": "OAHMBeQ2FzlO",
        "colab": {
          "base_uri": "https://localhost:8080/"
        },
        "outputId": "e34c8ac7-139b-4ee5-995d-f19f9955a4ed"
      },
      "source": [
        "# calculating lexical diversity (and writing functions)\n",
        "# represents what percentage of all of the words are unique words\n",
        "# it's hard to compare across corpora if they aren't the same length\n",
        "# (long texts end up using more very common words) \n",
        "\n",
        "def lexical_diversity(text):  # text is a list of words \n",
        "  return len(set(text)) / len(text) \n",
        "\n",
        "print(lexical_diversity(text1))\n",
        "print(lexical_diversity(text2))\n",
        "\n",
        "print(lexical_diversity(text3))\n",
        "\n",
        "print(lexical_diversity(text5))\n",
        "print(lexical_diversity(text6)) \n"
      ],
      "execution_count": null,
      "outputs": [
        {
          "output_type": "stream",
          "text": [
            "0.07406285585022564\n",
            "0.04826383002768831\n",
            "0.06230453042623537\n",
            "0.13477005109975562\n",
            "0.1276595744680851\n"
          ],
          "name": "stdout"
        }
      ]
    },
    {
      "cell_type": "code",
      "metadata": {
        "id": "_TPaWTtc0GdG",
        "colab": {
          "base_uri": "https://localhost:8080/"
        },
        "outputId": "7ad1d228-001d-4e3a-e6fa-156869670faf"
      },
      "source": [
        "print(lexical_diversity(['this', 'is', 'a', 'test']))"
      ],
      "execution_count": null,
      "outputs": [
        {
          "output_type": "stream",
          "text": [
            "0.5\n"
          ],
          "name": "stdout"
        }
      ]
    },
    {
      "cell_type": "markdown",
      "metadata": {
        "id": "VPebFG06FOFE"
      },
      "source": [
        "## Frequency Distributions\n",
        "\n",
        "Learning more about how specific words are used in a corpus is great, and can get you familiar with a corpus, but sometimes we want a more global view of the corpus. Calculating statistics about the corpus gets you an overview of the corpus, and can give you ideas about what to do next.\n",
        "\n",
        "FreqDist in NLTK looks at all of the words in a corpus, and counts every time the word shows up. "
      ]
    },
    {
      "cell_type": "code",
      "metadata": {
        "id": "HI-x0e0SGzaF",
        "colab": {
          "base_uri": "https://localhost:8080/"
        },
        "outputId": "be397ecc-b2bd-4800-d087-cd4260ebbb0f"
      },
      "source": [
        "# calculate a frequency distribution for text1\n",
        "fdist1 = FreqDist(text1)\n",
        "\n",
        "# print the 50 most common tokens in the frequency distribution\n",
        "print(fdist1.most_common(50))\n"
      ],
      "execution_count": null,
      "outputs": [
        {
          "output_type": "stream",
          "text": [
            "[(',', 18713), ('the', 13721), ('.', 6862), ('of', 6536), ('and', 6024), ('a', 4569), ('to', 4542), (';', 4072), ('in', 3916), ('that', 2982), (\"'\", 2684), ('-', 2552), ('his', 2459), ('it', 2209), ('I', 2124), ('s', 1739), ('is', 1695), ('he', 1661), ('with', 1659), ('was', 1632), ('as', 1620), ('\"', 1478), ('all', 1462), ('for', 1414), ('this', 1280), ('!', 1269), ('at', 1231), ('by', 1137), ('but', 1113), ('not', 1103), ('--', 1070), ('him', 1058), ('from', 1052), ('be', 1030), ('on', 1005), ('so', 918), ('whale', 906), ('one', 889), ('you', 841), ('had', 767), ('have', 760), ('there', 715), ('But', 705), ('or', 697), ('were', 680), ('now', 646), ('which', 640), ('?', 637), ('me', 627), ('like', 624)]\n"
          ],
          "name": "stdout"
        }
      ]
    },
    {
      "cell_type": "code",
      "metadata": {
        "id": "6HI2xM4LHHxs",
        "colab": {
          "base_uri": "https://localhost:8080/"
        },
        "outputId": "ba7d1273-f3fc-4906-e9d7-21b876f1dfa0"
      },
      "source": [
        "fdist2 = FreqDist(text2) \n",
        "print(fdist2.most_common(50))\n",
        "\n"
      ],
      "execution_count": null,
      "outputs": [
        {
          "output_type": "stream",
          "text": [
            "[(',', 9397), ('to', 4063), ('.', 3975), ('the', 3861), ('of', 3565), ('and', 3350), ('her', 2436), ('a', 2043), ('I', 2004), ('in', 1904), ('was', 1846), ('it', 1568), ('\"', 1506), (';', 1419), ('she', 1333), ('be', 1305), ('that', 1297), ('for', 1234), ('not', 1212), ('as', 1179), ('you', 1037), ('with', 971), ('had', 969), ('his', 941), ('he', 895), (\"'\", 883), ('have', 807), ('at', 806), ('by', 737), ('is', 728), ('.\"', 721), ('s', 700), ('Elinor', 684), ('on', 676), ('all', 642), ('him', 633), ('so', 617), ('but', 597), ('which', 592), ('could', 568), ('Marianne', 566), ('my', 551), ('Mrs', 530), ('from', 527), ('would', 507), ('very', 492), ('no', 488), ('their', 463), ('them', 462), ('--', 461)]\n"
          ],
          "name": "stdout"
        }
      ]
    },
    {
      "cell_type": "code",
      "metadata": {
        "id": "uEAz7xb3HSL1",
        "colab": {
          "base_uri": "https://localhost:8080/",
          "height": 317
        },
        "outputId": "d3a7b25d-0cb5-49cb-f37f-e75ec271e873"
      },
      "source": [
        "# plotting the cumulative distribution tells you how much of a corpus the most frequent words take up\n",
        "print(len(text1))\n",
        "fdist1.plot(50, cumulative=True)"
      ],
      "execution_count": null,
      "outputs": [
        {
          "output_type": "stream",
          "text": [
            "260819\n"
          ],
          "name": "stdout"
        },
        {
          "output_type": "display_data",
          "data": {
            "image/png": "[encoded data removed]",
            "text/plain": [
              "<Figure size 432x288 with 1 Axes>"
            ]
          },
          "metadata": {
            "tags": [],
            "needs_background": "light"
          }
        }
      ]
    },
    {
      "cell_type": "code",
      "metadata": {
        "id": "8_FQhLYPHbJF",
        "colab": {
          "base_uri": "https://localhost:8080/",
          "height": 333
        },
        "outputId": "ea89fa8f-7226-4b72-947d-ee590b993a2d"
      },
      "source": [
        "print(len(text2))\n",
        "fdist2.plot(50, cumulative=True)\n"
      ],
      "execution_count": null,
      "outputs": [
        {
          "output_type": "stream",
          "text": [
            "141576\n"
          ],
          "name": "stdout"
        },
        {
          "output_type": "display_data",
          "data": {
            "image/png": "[encoded data removed]",
            "text/plain": [
              "<Figure size 432x288 with 1 Axes>"
            ]
          },
          "metadata": {
            "tags": [],
            "needs_background": "light"
          }
        }
      ]
    },
    {
      "cell_type": "code",
      "metadata": {
        "id": "Iv_msN-9Lg4w",
        "colab": {
          "base_uri": "https://localhost:8080/",
          "height": 316
        },
        "outputId": "aabed747-fa5a-497b-8ad3-f1c00bd0a3d9"
      },
      "source": [
        "# setting cumulative to \"False\" gives you frequency for each word\n",
        "fdist2.plot(50, cumulative=False)"
      ],
      "execution_count": null,
      "outputs": [
        {
          "output_type": "display_data",
          "data": {
            "image/png": "[encoded data removed]",
            "text/plain": [
              "<Figure size 432x288 with 1 Axes>"
            ]
          },
          "metadata": {
            "tags": [],
            "needs_background": "light"
          }
        }
      ]
    },
    {
      "cell_type": "code",
      "metadata": {
        "id": "FcCN5F_-gbMd"
      },
      "source": [
        "from nltk.corpus import stopwords\n",
        "\n",
        "stopwords_en = stopwords.words(\"english\")\n",
        "\n",
        "stop_punct = [',', '.']\n",
        "\n",
        "stopwords_en.extend(stop_punct)\n",
        "\n",
        "\n",
        "text1_no_stopwords = [w for w in text1 if w.lower() not in stopwords_en]\n",
        "\n",
        "#text1_no_stopwords = [w for w in text1_no_stopwords if w not in stop_punct]\n",
        "\n",
        "\n",
        "text1_no_stopwords = []\n",
        "\n",
        "for w in text1:\n",
        "  if w.lower() not in stopwords_en:\n",
        "    text1_no_stopwords.append(w) \n",
        "\n"
      ],
      "execution_count": null,
      "outputs": []
    },
    {
      "cell_type": "code",
      "metadata": {
        "id": "FEroINvRgxqF",
        "colab": {
          "base_uri": "https://localhost:8080/",
          "height": 361
        },
        "outputId": "b624ae2f-3c62-4183-b9ab-6ce0074bd5d0"
      },
      "source": [
        "# calculate a frequency distribution for text1\n",
        "fdist1_no_sw = FreqDist(text1_no_stopwords)\n",
        "\n",
        "print(fdist1_no_sw.most_common(50))\n",
        "\n",
        "\n",
        "# print the 50 most common tokens in the frequency distribution\n",
        "fdist1_no_sw.plot(50, cumulative=True)"
      ],
      "execution_count": null,
      "outputs": [
        {
          "output_type": "stream",
          "text": [
            "[(';', 4072), (\"'\", 2684), ('-', 2552), ('\"', 1478), ('!', 1269), ('--', 1070), ('whale', 906), ('one', 889), ('?', 637), ('like', 624), ('upon', 538), ('man', 508), ('ship', 507), ('Ahab', 501), ('.\"', 489), ('ye', 460), ('old', 436), ('sea', 433), ('would', 421), ('head', 335), ('though', 335), ('boat', 330), ('time', 324), ('long', 318), ('!\"', 305), ('said', 302), (',\"', 302), ('yet', 300), ('still', 299), ('great', 293), ('two', 285), ('seemed', 283), ('must', 282), ('Whale', 282), ('last', 277), ('way', 269), ('Stubb', 255), ('see', 253), ('?\"', 252), ('Queequeg', 252), ('little', 247), ('round', 242), ('whales', 237), ('say', 237), ('three', 237), ('men', 236), ('thou', 232), ('may', 230), ('us', 228), ('every', 222)]\n"
          ],
          "name": "stdout"
        },
        {
          "output_type": "display_data",
          "data": {
            "image/png": "[encoded data removed]",
            "text/plain": [
              "<Figure size 432x288 with 1 Axes>"
            ]
          },
          "metadata": {
            "tags": [],
            "needs_background": "light"
          }
        }
      ]
    },
    {
      "cell_type": "markdown",
      "metadata": {
        "id": "fctTb-qkCJl6"
      },
      "source": [
        "## Your turn\n",
        "\n",
        "Practice with the NLTK functions we've gone through so far (concordance, similar, common_contexts, dispersion_plot) on the different corpora. See if you notice anything interesting about the different data sets. \n",
        "\n",
        "Some things to try:\n",
        "\n",
        "- Calculate the lexical diversity of each data set in texts() \n",
        "- Use a different text and word list to generate a new dispersion plot \n",
        "- Pick the two most different corpora in texts() (in your opinion) and a few words that show up in both (via FreqDist and most_common) , and use similar() so see how they are used differently."
      ]
    },
    {
      "cell_type": "code",
      "metadata": {
        "id": "_jtgfRjzLg4w"
      },
      "source": [
        "# Your code here\n"
      ],
      "execution_count": null,
      "outputs": []
    },
    {
      "cell_type": "markdown",
      "metadata": {
        "id": "Trnw1Kta7RBz"
      },
      "source": [
        "## Selecting Specific Groups of Words\n",
        "\n",
        "Long words can be interesting, as they are typically rarer than short words.\n",
        "It takes a few steps to get at the list of long words, which are annotated below:\n"
      ]
    },
    {
      "cell_type": "code",
      "metadata": {
        "id": "gU23acWd7ZGL",
        "colab": {
          "base_uri": "https://localhost:8080/"
        },
        "outputId": "52aa3b71-4226-429c-a57f-077c22769e4b"
      },
      "source": [
        "# first we want the set of tokens (include each tokens only once)\n",
        "V = set(text1)  # V for vocabulary\n",
        "\n",
        "# Now we want to include only the longs words (we define long here as having more than 15 characters)\n",
        "long_words = [w for w in V if len(w) > 15]\n",
        "\n",
        "# ASIDE: Is there another way to build this list? A more readable way?\n",
        "long_words_2 = []\n",
        "for w in V:\n",
        "  if len(w) > 15:\n",
        "    long_words_2.append(w) \n",
        "\n",
        "print(sorted(long_words))  # how are these long words being sorted?\n",
        "\n",
        "print(sorted(long_words_2))\n"
      ],
      "execution_count": null,
      "outputs": [
        {
          "output_type": "stream",
          "text": [
            "['CIRCUMNAVIGATION', 'Physiognomically', 'apprehensiveness', 'cannibalistically', 'characteristically', 'circumnavigating', 'circumnavigation', 'circumnavigations', 'comprehensiveness', 'hermaphroditical', 'indiscriminately', 'indispensableness', 'irresistibleness', 'physiognomically', 'preternaturalness', 'responsibilities', 'simultaneousness', 'subterraneousness', 'supernaturalness', 'superstitiousness', 'uncomfortableness', 'uncompromisedness', 'undiscriminating', 'uninterpenetratingly']\n",
            "['CIRCUMNAVIGATION', 'Physiognomically', 'apprehensiveness', 'cannibalistically', 'characteristically', 'circumnavigating', 'circumnavigation', 'circumnavigations', 'comprehensiveness', 'hermaphroditical', 'indiscriminately', 'indispensableness', 'irresistibleness', 'physiognomically', 'preternaturalness', 'responsibilities', 'simultaneousness', 'subterraneousness', 'supernaturalness', 'superstitiousness', 'uncomfortableness', 'uncompromisedness', 'undiscriminating', 'uninterpenetratingly']\n"
          ],
          "name": "stdout"
        }
      ]
    },
    {
      "cell_type": "markdown",
      "metadata": {
        "id": "dtzRtTqB8Wfm"
      },
      "source": [
        "Not all long words are inherently interesting to us.\n",
        "If a long word only shows up once, it might not be important in the corpus.\n",
        "\n",
        "We can combine our check for length with FreqDist to look at long, repeated words.\n",
        "\n"
      ]
    },
    {
      "cell_type": "code",
      "metadata": {
        "id": "tV0Nok2n8je2",
        "colab": {
          "base_uri": "https://localhost:8080/"
        },
        "outputId": "2222a771-5a3d-4e7a-c8ed-5390c5c5c7b2"
      },
      "source": [
        "fdist8 = FreqDist(text8)\n",
        "\n",
        "# this looks a little funny, right? The list comprehension isn't in a list!\n",
        "print(len(sorted(w for w in set(text8) if len(w) > 7 and fdist8[w] > 7)))\n",
        "\n",
        "# this should be more familiar, but here both work.\n",
        "print(len(sorted([w for w in set(text8) if len(w) > 7 and fdist8[w] > 7])))\n",
        "\n",
        "fdist4 = FreqDist(text4)\n",
        "\n",
        "print(len(sorted(w for w in set(text4) if len(w) > 7 and fdist4[w] > 7)))\n",
        "\n"
      ],
      "execution_count": null,
      "outputs": [
        {
          "output_type": "stream",
          "text": [
            "7\n",
            "7\n",
            "669\n"
          ],
          "name": "stdout"
        }
      ]
    },
    {
      "cell_type": "code",
      "metadata": {
        "id": "EqF-gDgP9n3x",
        "colab": {
          "base_uri": "https://localhost:8080/"
        },
        "outputId": "a1d8cf09-2f31-47c7-a862-e8d6ad5340f1"
      },
      "source": [
        "# Looking at the words themselves \n",
        "\n",
        "print(sorted(w for w in set(text8) if len(w) > 7 and fdist8[w] > 7))\n",
        "\n",
        "\n",
        "fdist4 = FreqDist(text4)\n",
        "\n",
        "print(sorted(w for w in set(text4) if len(w) > 7 and fdist4[w] > 7))\n"
      ],
      "execution_count": null,
      "outputs": [
        {
          "output_type": "stream",
          "text": [
            "['ATTRACTIVE', 'attractive', 'children', 'employed', 'friendship', 'interests', 'relationship']\n",
            "['Administration', 'Almighty', 'American', 'Americans', 'Confederacy', 'Congress', 'Constitution', 'Declaration', 'Departments', 'European', 'Executive', 'Government', 'Independence', 'Jefferson', 'Legislature', 'Magistrate', 'National', 'President', 'Presidential', 'Providence', 'Republic', 'Revolution', 'Southern', 'Territories', 'Territory', 'Together', 'Treasury', 'Washington', 'absolute', 'accepted', 'accomplish', 'accomplished', 'accordance', 'according', 'accountability', 'achieved', 'achievement', 'acknowledged', 'activities', 'additional', 'adequate', 'adherence', 'adjustment', 'administer', 'administered', 'administration', 'admitted', 'adoption', 'advanced', 'advancement', 'advantage', 'advantages', 'affecting', 'affection', 'afforded', 'agencies', 'aggression', 'agitation', 'agricultural', 'agriculture', 'alliances', 'altogether', 'ambition', 'amendment', 'amendments', 'anticipated', 'anything', 'application', 'appointment', 'apprehension', 'approach', 'appropriate', 'arbitration', 'armaments', 'aspirations', 'assembled', 'assembly', 'assigned', 'assistance', 'assurance', 'attained', 'attention', 'authorities', 'authority', 'available', 'beginning', 'believed', 'beneficent', 'beneficial', 'benefits', 'bestowed', 'blessing', 'blessings', 'branches', 'building', 'business', 'calculated', 'capacity', 'carrying', 'celebrate', 'centuries', 'ceremony', 'certainly', 'challenge', 'challenges', 'character', 'cheerfully', 'cherished', 'children', 'circumstances', 'citizens', 'citizenship', 'civilization', 'civilized', 'collected', 'combinations', 'commerce', 'commercial', 'commission', 'commitment', 'committed', 'communities', 'community', 'compassion', 'competent', 'competition', 'complete', 'compromise', 'concerned', 'concerning', 'concerns', 'concession', 'condition', 'conditions', 'conferred', 'confidence', 'confident', 'confidently', 'conflict', 'conflicting', 'conformity', 'connected', 'conscience', 'conscious', 'consciousness', 'consequence', 'consequences', 'consider', 'consideration', 'considerations', 'considered', 'consistent', 'constant', 'constantly', 'constituted', 'constitution', 'constitutional', 'construction', 'contemplate', 'continent', 'continuance', 'continue', 'continued', 'continuing', 'contrary', 'contributed', 'controversies', 'convenience', 'conviction', 'cooperation', 'councils', 'counsels', 'countries', 'countrymen', 'covenant', 'cultivate', 'currency', 'dangerous', 'decision', 'decisions', 'declaration', 'declared', 'dedication', 'definite', 'demanded', 'democracy', 'democratic', 'department', 'departments', 'depression', 'despotism', 'destinies', 'destruction', 'determination', 'determine', 'determined', 'development', 'devotion', 'difference', 'differences', 'different', 'difficult', 'difficulties', 'difficulty', 'diplomacy', 'directed', 'direction', 'directly', 'disaster', 'discharge', 'discipline', 'discretion', 'discussion', 'disposition', 'disputes', 'disregard', 'dissolution', 'distinction', 'distinguished', 'disturbed', 'diversity', 'division', 'divisions', 'domestic', 'dominions', 'economic', 'education', 'effected', 'effective', 'efficiency', 'efficient', 'election', 'elections', 'elements', 'emergency', 'employed', 'employees', 'employment', 'encourage', 'encouragement', 'encouraging', 'endeavor', 'enduring', 'energies', 'enforced', 'enforcement', 'enjoyment', 'enlarged', 'enlightened', 'entering', 'enterprise', 'enterprises', 'entertain', 'entertained', 'entirely', 'entitled', 'equality', 'especially', 'essential', 'establish', 'established', 'establishment', 'everyone', 'everything', 'everywhere', 'evidence', 'examples', 'excitement', 'exclusively', 'executed', 'execution', 'executive', 'exercise', 'exercised', 'existence', 'existing', 'expansion', 'expected', 'expedient', 'expenditure', 'expenditures', 'experience', 'experiment', 'expressed', 'expression', 'expressly', 'extended', 'extension', 'extraordinary', 'extravagance', 'facilities', 'factories', 'faculties', 'faithful', 'faithfully', 'families', 'favorable', 'fearless', 'feelings', 'fidelity', 'financial', 'followed', 'forbearance', 'forgotten', 'formation', 'fortifications', 'foundation', 'foundations', 'founders', 'fraternal', 'friendly', 'friendship', 'fulfillment', 'functions', 'fundamental', 'generally', 'generation', 'generations', 'generous', 'glorious', 'goodness', 'governed', 'government', 'governmental', 'governments', 'grateful', 'gratitude', 'greatest', 'greatness', 'guaranty', 'guidance', 'happiness', 'heretofore', 'heritage', 'historic', 'hitherto', 'honestly', 'honorable', 'humanity', 'idealism', 'ignorance', 'ignorant', 'illustrious', 'immediate', 'imperative', 'importance', 'important', 'impossible', 'impressed', 'improvement', 'improvements', 'inauguration', 'incident', 'increase', 'increased', 'increasing', 'independence', 'independent', 'indispensable', 'individual', 'individuals', 'industrial', 'industries', 'industry', 'inevitable', 'influence', 'information', 'inhabitants', 'initiative', 'injustice', 'inseparable', 'instance', 'instances', 'institution', 'institutions', 'instrument', 'integrity', 'intelligence', 'intelligent', 'intended', 'intention', 'intercourse', 'interest', 'interests', 'interfere', 'interference', 'internal', 'international', 'interstate', 'intrusted', 'invasion', 'involved', 'judgment', 'judicial', 'jurisdiction', 'knowledge', 'language', 'leadership', 'legislation', 'legislative', 'legitimate', 'liberties', 'limitation', 'limitations', 'maintain', 'maintained', 'maintaining', 'maintenance', 'majority', 'management', 'manufactures', 'material', 'materials', 'measures', 'military', 'millions', 'minorities', 'minority', 'movement', 'national', 'necessarily', 'necessary', 'necessities', 'necessity', 'negotiation', 'neighbor', 'neighbors', 'neutrality', 'obedience', 'obligation', 'obligations', 'observance', 'observed', 'occasion', 'occurred', 'officers', 'official', 'operation', 'opinions', 'opportunities', 'opportunity', 'opposition', 'ordinary', 'organization', 'organized', 'original', 'otherwise', 'ourselves', 'participation', 'particular', 'partisan', 'passions', 'patriotic', 'patriotism', 'patriots', 'peaceful', 'peculiar', 'penalties', 'performance', 'permanent', 'permitted', 'perpetual', 'personal', 'physical', 'platform', 'policies', 'political', 'politics', 'population', 'position', 'possessed', 'possessions', 'possible', 'posterity', 'powerful', 'practicable', 'practical', 'practice', 'precious', 'predecessor', 'predecessors', 'prejudice', 'prejudices', 'preparation', 'prepared', 'prescribed', 'presence', 'presented', 'preservation', 'preserve', 'preserved', 'preserving', 'principal', 'principle', 'principles', 'privilege', 'privileges', 'problems', 'proclaim', 'produced', 'production', 'productions', 'productive', 'products', 'profound', 'progress', 'promises', 'promoted', 'promoting', 'promotion', 'promptly', 'properly', 'property', 'proposed', 'proposition', 'prospect', 'prosperity', 'prosperous', 'protected', 'protecting', 'protection', 'provided', 'provision', 'provisions', 'punishment', 'purposes', 'question', 'questions', 'railroads', 'reaching', 'realization', 'realized', 'reasonable', 'received', 'recognition', 'recognize', 'recognized', 'recommend', 'recommendations', 'recommended', 'recovery', 'reference', 'relation', 'relations', 'reliance', 'religion', 'religious', 'remedies', 'remember', 'remembered', 'representative', 'representatives', 'republic', 'republican', 'republics', 'required', 'requires', 'reserved', 'resolution', 'resources', 'respecting', 'respective', 'respects', 'responsibilities', 'responsibility', 'responsible', 'restoration', 'restored', 'revenues', 'reverence', 'revolution', 'righteousness', 'rightful', 'sacredly', 'sacrifice', 'sacrifices', 'sanction', 'satisfaction', 'satisfactory', 'scarcely', 'sectional', 'sections', 'securing', 'security', 'selected', 'sentiment', 'sentiments', 'separate', 'servants', 'services', 'settlement', 'situation', 'slightest', 'soldiers', 'solicitude', 'solution', 'something', 'sometimes', 'sovereign', 'sovereignty', 'speaking', 'speedily', 'spiritual', 'stability', 'standard', 'standards', 'standing', 'statesmen', 'steadily', 'strength', 'strengthen', 'strengthened', 'strictly', 'stronger', 'strongest', 'structure', 'struggle', 'struggling', 'subjects', 'submitted', 'successful', 'successfully', 'suffered', 'suffering', 'sufficient', 'suffrage', 'suitable', 'supported', 'supporting', 'supposed', 'surrender', 'surrendered', 'suspicion', 'sustained', 'sympathy', 'taxation', 'temporary', 'tendency', 'territory', 'themselves', 'therefore', 'thoughts', 'thousand', 'thousands', 'threatened', 'throughout', 'together', 'tolerance', 'tomorrow', 'tranquillity', 'treaties', 'tribunal', 'triumphs', 'ultimate', 'ultimately', 'understand', 'understanding', 'understood', 'undertake', 'universal', 'unnecessary', 'violation', 'violence', 'virtuous', 'weakness', 'whatever', 'whenever', 'wherever', 'witnessed']\n"
          ],
          "name": "stdout"
        }
      ]
    },
    {
      "cell_type": "markdown",
      "metadata": {
        "id": "PQDTu3O2-NOQ"
      },
      "source": [
        "## Collocations\n",
        "\n",
        "Collocations are what they sound like: words that \"co-located\" in the text unusually often. \n",
        "\n",
        "What do we mean by unusually often? Some words are more common than others. Most words are rare just because of the fact that there are a lot of words! But sometimes when you put to words together, their \"rareness\" decreases, due to the fact that they show up in that pairing frequently. Think \"red wine,\" \"Notre Dame,\" \"artificial intelligence,\" etc.\n",
        "\n",
        "You identify collocations by starting with bigrams, which are just pairs of words. Bigrams that are *frequent* and *involve rare words* are considered collocations (e.g. \"the\" plus most words wouldn't be considered a collocation).\n",
        "\n"
      ]
    },
    {
      "cell_type": "code",
      "metadata": {
        "id": "zXpyYRTi_Y7D",
        "colab": {
          "base_uri": "https://localhost:8080/"
        },
        "outputId": "ffab02fc-1afa-4695-c523-8827a9e43bd0"
      },
      "source": [
        "# text 4: Inaugural Addresses\n",
        "text4.collocations()"
      ],
      "execution_count": null,
      "outputs": [
        {
          "output_type": "stream",
          "text": [
            "United States; fellow citizens; four years; years ago; Federal\n",
            "Government; General Government; American people; Vice President; God\n",
            "bless; Chief Justice; Old World; Almighty God; Fellow citizens; Chief\n",
            "Magistrate; every citizen; one another; fellow Americans; Indian\n",
            "tribes; public debt; foreign nations\n"
          ],
          "name": "stdout"
        }
      ]
    },
    {
      "cell_type": "code",
      "metadata": {
        "id": "7Bv9jsdw_b0B",
        "colab": {
          "base_uri": "https://localhost:8080/"
        },
        "outputId": "bf01a90e-e149-4503-8698-ed1ccb2d34ed"
      },
      "source": [
        "# text 6: Monty Python and the Holy Grail\n",
        "text6.collocations()"
      ],
      "execution_count": null,
      "outputs": [
        {
          "output_type": "stream",
          "text": [
            "BLACK KNIGHT; clop clop; HEAD KNIGHT; mumble mumble; Holy Grail;\n",
            "squeak squeak; FRENCH GUARD; saw saw; Sir Robin; Run away; CARTOON\n",
            "CHARACTER; King Arthur; Iesu domine; Pie Iesu; DEAD PERSON; Round\n",
            "Table; clap clap; OLD MAN; dramatic chord; dona eis\n"
          ],
          "name": "stdout"
        }
      ]
    },
    {
      "cell_type": "code",
      "metadata": {
        "id": "8NgW0h2gp9Vf",
        "colab": {
          "base_uri": "https://localhost:8080/"
        },
        "outputId": "959f872e-6e7c-4d49-e77c-801d8e3f2b3f"
      },
      "source": [
        "from nltk import everygrams\n",
        "\n",
        "eg = nltk.everygrams(text4, 3, 3)\n",
        "\n",
        "max = 0\n",
        "for e in eg:\n",
        "  print(e)\n",
        "  max +=1\n",
        "  if max > 20:\n",
        "    break"
      ],
      "execution_count": null,
      "outputs": [
        {
          "output_type": "stream",
          "text": [
            "('Fellow', '-', 'Citizens')\n",
            "('-', 'Citizens', 'of')\n",
            "('Citizens', 'of', 'the')\n",
            "('of', 'the', 'Senate')\n",
            "('the', 'Senate', 'and')\n",
            "('Senate', 'and', 'of')\n",
            "('and', 'of', 'the')\n",
            "('of', 'the', 'House')\n",
            "('the', 'House', 'of')\n",
            "('House', 'of', 'Representatives')\n",
            "('of', 'Representatives', ':')\n",
            "('Representatives', ':', 'Among')\n",
            "(':', 'Among', 'the')\n",
            "('Among', 'the', 'vicissitudes')\n",
            "('the', 'vicissitudes', 'incident')\n",
            "('vicissitudes', 'incident', 'to')\n",
            "('incident', 'to', 'life')\n",
            "('to', 'life', 'no')\n",
            "('life', 'no', 'event')\n",
            "('no', 'event', 'could')\n",
            "('event', 'could', 'have')\n"
          ],
          "name": "stdout"
        }
      ]
    },
    {
      "cell_type": "markdown",
      "metadata": {
        "id": "UiTBm7eh_jWI"
      },
      "source": [
        "# Counting other things\n",
        "\n",
        "By now you are hopefully comfortable with the idea that counting can get you a long way with text analysis. Eventually we'll be looking at texts in terms of *probability,* which is effectively counting. With the functions we went through today you can count all kinds of things in texts, and take a first pass through your data to get a feel for what is there.\n"
      ]
    },
    {
      "cell_type": "code",
      "metadata": {
        "id": "vrDQ6AYA_18p",
        "colab": {
          "base_uri": "https://localhost:8080/"
        },
        "outputId": "86f51ec8-5a7b-4176-f0d6-69e96da4987d"
      },
      "source": [
        "# Final counting example, annotated from the NLTK book\n",
        "\n",
        "print([len(w) for w in text1][0:10]) \n",
        "\n",
        "\n",
        "# here, we want the frequency distribution of word lengths, not words\n",
        "fdist = FreqDist([len(w) for w in text1])\n",
        "\n",
        "print(fdist)\n",
        "\n",
        "fdist\n"
      ],
      "execution_count": null,
      "outputs": [
        {
          "output_type": "stream",
          "text": [
            "[1, 4, 4, 2, 6, 8, 4, 1, 9, 1]\n",
            "<FreqDist with 19 samples and 260819 outcomes>\n"
          ],
          "name": "stdout"
        },
        {
          "output_type": "execute_result",
          "data": {
            "text/plain": [
              "FreqDist({1: 47933,\n",
              "          2: 38513,\n",
              "          3: 50223,\n",
              "          4: 42345,\n",
              "          5: 26597,\n",
              "          6: 17111,\n",
              "          7: 14399,\n",
              "          8: 9966,\n",
              "          9: 6428,\n",
              "          10: 3528,\n",
              "          11: 1873,\n",
              "          12: 1053,\n",
              "          13: 567,\n",
              "          14: 177,\n",
              "          15: 70,\n",
              "          16: 22,\n",
              "          17: 12,\n",
              "          18: 1,\n",
              "          20: 1})"
            ]
          },
          "metadata": {
            "tags": []
          },
          "execution_count": 4
        }
      ]
    },
    {
      "cell_type": "code",
      "metadata": {
        "id": "sul0hhF4AXop",
        "colab": {
          "base_uri": "https://localhost:8080/"
        },
        "outputId": "a64fedce-4a72-43b4-937e-10cc9cedf592"
      },
      "source": [
        "# What are the most common word lengths in the text? \n",
        "\n",
        "print(fdist.most_common())\n",
        "\n",
        "# what's the single most common?\n",
        "print(fdist.max())\n",
        "\n",
        "# fdist is a dictionary, so we're looking up the frequency of length-3 words, not the 3rd entry in a list\n",
        "print(fdist[3])\n",
        "\n",
        "# same again here, what percent of the corpus is made up of length-3 words?\n",
        "fdist.freq(3)"
      ],
      "execution_count": null,
      "outputs": [
        {
          "output_type": "stream",
          "text": [
            "[(3, 50223), (1, 47933), (4, 42345), (2, 38513), (5, 26597), (6, 17111), (7, 14399), (8, 9966), (9, 6428), (10, 3528), (11, 1873), (12, 1053), (13, 567), (14, 177), (15, 70), (16, 22), (17, 12), (18, 1), (20, 1)]\n",
            "3\n",
            "50223\n"
          ],
          "name": "stdout"
        },
        {
          "output_type": "execute_result",
          "data": {
            "text/plain": [
              "0.19255882431878046"
            ]
          },
          "metadata": {
            "tags": []
          },
          "execution_count": 5
        }
      ]
    }
  ]
}